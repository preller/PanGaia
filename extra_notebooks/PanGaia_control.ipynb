{
 "cells": [
  {
   "cell_type": "markdown",
   "metadata": {},
   "source": [
    "# PanGaia_Control: A Python Toolkit to prepare a Gaia DR2 Control Sample\n",
    "**Goals**: \n",
    "To create a Control Sample from an user-provided initial sample.\n",
    "\n",
    "\n",
    "**Methodology**:\n",
    "1. Cross-matching (by 2MASS ID) the initial sample against the Gaia DR2 (via astroquery.gaia). \n",
    "2. Applying 3 quality selection criteria ($\\varpi$ S/N, vissibility periods, RUWE)\n",
    "3. Identifying outliers (if any) in $\\varpi$, $\\mu_{\\alpha}^*$, and $\\mu_{\\delta}$ via a $\\sigma$-threesold flexible criteria.\n",
    "\n",
    "**User Inputs**: \n",
    "The initial sample: One (1) .vot table containing the 2MASS Source_IDs and J-band magnitudes of the sample.\n",
    "\n",
    "**Products**: \n",
    "The Control sample.\n",
    "\n",
    "**Notes**: \n",
    "1. The code automatically searches for initial tables located in the current directory as \"sample_ini* 2MASS*\"\n",
    "2. This project is expands the work presented by Canovas et al. 2019, A&A (https://www.aanda.org/articles/aa/abs/2019/06/aa35321-19/aa35321-19.html)."
   ]
  },
  {
   "cell_type": "code",
   "execution_count": 1,
   "metadata": {
    "hide_input": true
   },
   "outputs": [
    {
     "name": "stderr",
     "output_type": "stream",
     "text": [
      "WARNING: AstropyDeprecationWarning: astropy.extern.six will be removed in 4.0, use the six module directly if it is still needed [astropy.extern.six]\n"
     ]
    },
    {
     "name": "stdout",
     "output_type": "stream",
     "text": [
      "Created TAP+ (v1.0.1) - Connection:\n",
      "\tHost: gea.esac.esa.int\n",
      "\tUse HTTPS: False\n",
      "\tPort: 80\n",
      "\tSSL Port: 443\n"
     ]
    }
   ],
   "source": [
    "from astropy.table            import Table, join, Column, MaskedColumn\n",
    "\n",
    "# Python Basics ========================\n",
    "import warnings, itertools, sys\n",
    "sys.path.append('../libraries')\n",
    "\n",
    "# Custom ===============================\n",
    "from library_control      import sample_control as lib_control\n",
    "from library_gaia         import sample_gaia    as lib_gaia\n",
    "from library_plotters     import Basic_Plotters as lib_plot\n",
    "\n",
    "# PyEsasKy =============================\n",
    "from pyesasky.pyesasky import ESASkyWidget"
   ]
  },
  {
   "cell_type": "markdown",
   "metadata": {},
   "source": [
    "# 1.- Run ESASky"
   ]
  },
  {
   "cell_type": "code",
   "execution_count": 2,
   "metadata": {
    "hide_input": true
   },
   "outputs": [],
   "source": [
    "# # Run ESASKY ===========================================\n",
    "# esasky = ESASkyWidget()\n",
    "# esasky"
   ]
  },
  {
   "cell_type": "code",
   "execution_count": 3,
   "metadata": {},
   "outputs": [],
   "source": [
    "# back_dict = {'label':'AllWISE color', 'url': 'http://cdn.skies.esac.esa.int/AllWISEColor/'}\n",
    "# back_dict = {'label':'AllWISE color', 'url': 'http://cdn.skies.esac.esa.int/AllWISEColor/'}\n",
    "# # esasky.setHiPS(back_dict['label'], back_dict['url'])\n",
    "# # esasky.setHiPS('Fermi color')"
   ]
  },
  {
   "cell_type": "markdown",
   "metadata": {},
   "source": [
    "## 2.- Load Initial Sample"
   ]
  },
  {
   "cell_type": "code",
   "execution_count": 4,
   "metadata": {
    "hide_input": true
   },
   "outputs": [
    {
     "name": "stdout",
     "output_type": "stream",
     "text": [
      "No Initial samples found in current directory.\n"
     ]
    },
    {
     "ename": "AttributeError",
     "evalue": "'sample_control' object has no attribute 'sample_ini_name'",
     "output_type": "error",
     "traceback": [
      "\u001b[0;31m---------------------------------------------------------------------------\u001b[0m",
      "\u001b[0;31mAttributeError\u001b[0m                            Traceback (most recent call last)",
      "\u001b[0;32m<ipython-input-4-7b0387472d45>\u001b[0m in \u001b[0;36m<module>\u001b[0;34m\u001b[0m\n\u001b[1;32m      1\u001b[0m \u001b[0;31m# Load initial sample for analysis =====================\u001b[0m\u001b[0;34m\u001b[0m\u001b[0;34m\u001b[0m\u001b[0;34m\u001b[0m\u001b[0m\n\u001b[1;32m      2\u001b[0m \u001b[0mcontrol\u001b[0m \u001b[0;34m=\u001b[0m \u001b[0mlib_control\u001b[0m\u001b[0;34m(\u001b[0m\u001b[0;34m)\u001b[0m\u001b[0;34m\u001b[0m\u001b[0;34m\u001b[0m\u001b[0m\n\u001b[0;32m----> 3\u001b[0;31m \u001b[0mcontrol\u001b[0m\u001b[0;34m.\u001b[0m\u001b[0mread_sample_ini\u001b[0m\u001b[0;34m(\u001b[0m\u001b[0;34m)\u001b[0m\u001b[0;34m\u001b[0m\u001b[0;34m\u001b[0m\u001b[0m\n\u001b[0m\u001b[1;32m      4\u001b[0m \u001b[0mcontrol\u001b[0m\u001b[0;34m.\u001b[0m\u001b[0msample_ini_cat\u001b[0m\u001b[0;34m[\u001b[0m\u001b[0;36m0\u001b[0m\u001b[0;34m:\u001b[0m\u001b[0;36m3\u001b[0m\u001b[0;34m]\u001b[0m\u001b[0;34m\u001b[0m\u001b[0;34m\u001b[0m\u001b[0m\n",
      "\u001b[0;32m~/Astrofisica/papers/2019_clustering_perseus/gaia_DEC/sample_analysis/libraries/library_control.py\u001b[0m in \u001b[0;36mread_sample_ini\u001b[0;34m(self, sample_ini_tb)\u001b[0m\n\u001b[1;32m     65\u001b[0m                                 \u001b[0mself\u001b[0m\u001b[0;34m.\u001b[0m\u001b[0msample_ini_name\u001b[0m \u001b[0;34m=\u001b[0m \u001b[0msample_ini_i\u001b[0m\u001b[0;34m[\u001b[0m\u001b[0;36m0\u001b[0m\u001b[0;34m:\u001b[0m\u001b[0msample_ini_i\u001b[0m\u001b[0;34m.\u001b[0m\u001b[0mfind\u001b[0m\u001b[0;34m(\u001b[0m\u001b[0;34m'.vot'\u001b[0m\u001b[0;34m)\u001b[0m\u001b[0;34m]\u001b[0m\u001b[0;34m\u001b[0m\u001b[0;34m\u001b[0m\u001b[0m\n\u001b[1;32m     66\u001b[0m \u001b[0;34m\u001b[0m\u001b[0m\n\u001b[0;32m---> 67\u001b[0;31m                 \u001b[0mself\u001b[0m\u001b[0;34m.\u001b[0m\u001b[0msample_con_name\u001b[0m \u001b[0;34m=\u001b[0m \u001b[0mself\u001b[0m\u001b[0;34m.\u001b[0m\u001b[0msample_ini_name\u001b[0m\u001b[0;34m.\u001b[0m\u001b[0mreplace\u001b[0m\u001b[0;34m(\u001b[0m\u001b[0;34m'ini'\u001b[0m\u001b[0;34m,\u001b[0m \u001b[0;34m'control'\u001b[0m\u001b[0;34m)\u001b[0m\u001b[0;34m\u001b[0m\u001b[0;34m\u001b[0m\u001b[0m\n\u001b[0m\u001b[1;32m     68\u001b[0m                 \u001b[0mself\u001b[0m\u001b[0;34m.\u001b[0m\u001b[0mrename_2mass_cols\u001b[0m\u001b[0;34m(\u001b[0m\u001b[0;34m)\u001b[0m\u001b[0;34m\u001b[0m\u001b[0;34m\u001b[0m\u001b[0m\n\u001b[1;32m     69\u001b[0m \u001b[0;34m\u001b[0m\u001b[0m\n",
      "\u001b[0;31mAttributeError\u001b[0m: 'sample_control' object has no attribute 'sample_ini_name'"
     ]
    }
   ],
   "source": [
    "# Load initial sample for analysis =====================\n",
    "control = lib_control()\n",
    "control.read_sample_ini()\n",
    "control.sample_ini_cat[0:3]"
   ]
  },
  {
   "cell_type": "markdown",
   "metadata": {},
   "source": [
    "## 3.- Cross-Match Initial Sample against Gaia DR2: ADQL query"
   ]
  },
  {
   "cell_type": "code",
   "execution_count": null,
   "metadata": {
    "hide_input": true
   },
   "outputs": [],
   "source": [
    "# Download Sample & Apply Quality cuts =================\n",
    "control.run_gaia_cross_match()\n",
    "control.threshold_vissibilities(visibility_min = 7)  # This code is also interactive (e.g. try control.threshold_vissibilities())\n",
    "control.threshold_ruwe(ruwe_max = 1.40)\n",
    "control.threshold_parallax_SN(par_SN_min = 10)\n",
    "control.add_distance()\n",
    "control.add_galactic()\n",
    "control.add_3D_galactic()\n",
    "control.plot_jband_hist()\n",
    "control.cat[0:3]"
   ]
  },
  {
   "cell_type": "markdown",
   "metadata": {},
   "source": [
    "## 4.- Generate Histograms"
   ]
  },
  {
   "cell_type": "code",
   "execution_count": null,
   "metadata": {
    "hide_input": true
   },
   "outputs": [],
   "source": [
    "# Generate histograms ==================================\n",
    "figures    = lib_plot()\n",
    "figures.load_gaia_cat(control.cat)\n",
    "fname      = control.sample_ini_name + '_hist_astrometry.pdf'\n",
    "histograms = figures.plot_3_hist(inp_col_1 = 'distance', fig_nm = fname, x1_bins=5, x2_bins=5, x3_bins=5, fontsize = 40, Gauss_fit = True)\n",
    "# histograms = figures.plot_3_hist(fig_nm = fname, x1_bins=5, x2_bins=5, x3_bins=5, fontsize = 40, Gauss_fit = True)"
   ]
  },
  {
   "cell_type": "markdown",
   "metadata": {},
   "source": [
    "## 5.- Create Control Sample"
   ]
  },
  {
   "cell_type": "code",
   "execution_count": null,
   "metadata": {
    "hide_input": true
   },
   "outputs": [],
   "source": [
    "# Remove Para, pmRA, pmDec Outliers ====================\n",
    "control.remove_hist_outliers(histograms_dat=histograms, verbose = True)\n",
    "\n",
    "# Generate new histograms ==============================\n",
    "figures      = lib_plot()\n",
    "figures.load_gaia_cat(control.cat)\n",
    "fname        = control.sample_con_name + '_hist_astrometry.pdf'\n",
    "histograms_2 = figures.plot_3_hist(inp_col_1 = 'distance', fig_nm = fname, x1_bins=3, x2_bins=5, x3_bins=5, fontsize = 40, Gauss_fit = True)\n",
    "# histograms_2 = figures.plot_3_hist(fig_nm = fname, x1_bins=3, x2_bins=5, x3_bins=5, fontsize = 40, Gauss_fit = True)\n",
    "\n",
    "# Save Control Sample ==================================\n",
    "control.save_control_sample()"
   ]
  },
  {
   "cell_type": "code",
   "execution_count": null,
   "metadata": {
    "hide_input": true
   },
   "outputs": [],
   "source": [
    "# Examine Velocity & Histograms ========================\n",
    "figures  = lib_plot()\n",
    "figures.load_gaia_cat(control.cat)\n",
    "figures.plot_2d_and_hist(col_hist = 'distance', fig_nm = control.sample_con_name + '_pmotions_and_pardist.pdf')\n",
    "figures.plot_2d_and_hist(col_hist = 'parallax', fig_nm = control.sample_con_name + '_pmotions_and_parhist.pdf')"
   ]
  },
  {
   "cell_type": "code",
   "execution_count": null,
   "metadata": {
    "hide_input": true
   },
   "outputs": [],
   "source": [
    "# Prepare Cone Search ==================================\n",
    "control.to_cone_search()\n",
    "control.ADQL_pars_table"
   ]
  },
  {
   "cell_type": "code",
   "execution_count": null,
   "metadata": {
    "hide_input": true
   },
   "outputs": [],
   "source": [
    "# Show Control Table on Sky ============================\n",
    "figures  = lib_plot()\n",
    "figures.load_gaia_cat(control.cat)\n",
    "figures.send_to_ESASky(esasky, catalogueName = 'Control', background='WISE', color='white', radius = control.ADQL_pars['radius'].value * 2)"
   ]
  },
  {
   "cell_type": "code",
   "execution_count": null,
   "metadata": {
    "hide_input": true
   },
   "outputs": [],
   "source": []
  },
  {
   "cell_type": "code",
   "execution_count": null,
   "metadata": {},
   "outputs": [],
   "source": []
  }
 ],
 "metadata": {
  "hide_input": false,
  "kernelspec": {
   "display_name": "Python 3",
   "language": "python",
   "name": "python3"
  },
  "language_info": {
   "codemirror_mode": {
    "name": "ipython",
    "version": 3
   },
   "file_extension": ".py",
   "mimetype": "text/x-python",
   "name": "python",
   "nbconvert_exporter": "python",
   "pygments_lexer": "ipython3",
   "version": "3.7.3"
  },
  "toc": {
   "base_numbering": 1,
   "nav_menu": {},
   "number_sections": true,
   "sideBar": true,
   "skip_h1_title": false,
   "title_cell": "Table of Contents",
   "title_sidebar": "Contents",
   "toc_cell": false,
   "toc_position": {},
   "toc_section_display": true,
   "toc_window_display": false
  }
 },
 "nbformat": 4,
 "nbformat_minor": 4
}
