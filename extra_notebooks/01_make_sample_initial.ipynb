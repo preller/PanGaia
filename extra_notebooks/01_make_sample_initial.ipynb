{
 "cells": [
  {
   "cell_type": "markdown",
   "metadata": {},
   "source": [
    "# 1.- Read IC 348 & NGC 1333 catalogues from Luhman, Esplin & Loutrel 2016\n",
    "### This catalogue includes most recent candidate members and supersedes the Luhman+2003 & Lada+2006 catalogues\n",
    "### https://ui.adsabs.harvard.edu/abs/2016ApJ...827...52L/abstract"
   ]
  },
  {
   "cell_type": "code",
   "execution_count": 1,
   "metadata": {},
   "outputs": [],
   "source": [
    "import warnings, os\n",
    "from astropy                  import units as u\n",
    "from astropy.table            import Table, hstack, join\n",
    "from astropy.utils.exceptions import AstropyWarning\n",
    "from astropy.coordinates      import SkyCoord\n",
    "import library_initial        as lib_ini"
   ]
  },
  {
   "cell_type": "code",
   "execution_count": 2,
   "metadata": {},
   "outputs": [],
   "source": [
    "# Dedicated functions ==================================\n",
    "def read_tb(inp_tb, cols, label = ''):\n",
    "    \"\"\"\n",
    "    Read input catalogue tables from Luhman 2016. Adds coordinates column.\n",
    "    \"\"\"\n",
    "    tab = Table.read(inp_tb, format = 'ascii')\n",
    "    tab = tab[cols]\n",
    "    \n",
    "    tab['coords'] = [str(tab['RAh'][i]) + ' ' + str(tab['RAm'][i]) + ' ' + str(tab['RAs'][i]) + ' ' + str(tab['DE-'][i]) +\n",
    "                     str(tab['DEd'][i]) + ' ' + str(tab['DEm'][i]) + ' ' + str(tab['DEs'][i]) for i in range(len(tab))]\n",
    "    \n",
    "    inp_coords   = SkyCoord(tab['coords'], unit = (u.hourangle, u.deg))\n",
    "    tab.remove_columns(['RAh', 'RAm', 'RAs', 'DE-', 'DEd', 'DEm', 'DEs'])\n",
    "    tab['RAdeg'] = inp_coords.ra.deg\n",
    "    tab['DEdeg'] = inp_coords.dec.deg\n",
    "    tab.label = label\n",
    "    for col in ['RAdeg', 'DEdeg']:\n",
    "        tab[col].format = '8.5f'\n",
    "        tab[col].unit   = u.degree        \n",
    "    \n",
    "    return tab"
   ]
  },
  {
   "cell_type": "code",
   "execution_count": 3,
   "metadata": {},
   "outputs": [],
   "source": [
    "# Read & prepare tables ================================\n",
    "warnings.filterwarnings('ignore', category=AstropyWarning, append=True)\n",
    "cols        = ['Name', 'RAh', 'RAm', 'RAs', 'DE-', 'DEd', 'DEm', 'DEs', 'Adopt', 'pmRA', 'e_pmRA', 'pmDE', 'e_pmDE']\n",
    "cat_ic348   = read_tb('table_1.dat', cols = cols + ['Luhman'], label = 'IC_348')\n",
    "cat_ngc1333 = read_tb('table_2.dat', cols = cols,              label = 'NGC_1333')"
   ]
  },
  {
   "cell_type": "code",
   "execution_count": 4,
   "metadata": {},
   "outputs": [],
   "source": [
    "# Cross-match catalogues against 2MASS =================\n",
    "inp_cats = [cat_ngc1333, cat_ic348]\n",
    "out_cats = []\n",
    "\n",
    "for inp_cat in inp_cats:\n",
    "    inp_coords     = SkyCoord(inp_cat['RAdeg'],inp_cat['DEdeg'])\n",
    "    inp_cat_tmasss = lib_ini.query_coords(inp_coords, catalog = \"II/246\", radius=1.0 * u.arcsecond, verbose = False)\n",
    "\n",
    "    # Combine input & 2mass catalogues =================\n",
    "    merged       = hstack([inp_cat, inp_cat_tmasss])\n",
    "    merged       = merged[merged['_2MASS'] != '0']\n",
    "    merged.remove_columns(['coords', 'RAdeg', 'DEdeg']) # Remove redundant Columns\n",
    "    merged.label = inp_cat.label\n",
    "    \n",
    "    out_cats.append(merged)"
   ]
  },
  {
   "cell_type": "code",
   "execution_count": 5,
   "metadata": {},
   "outputs": [
    {
     "name": "stdout",
     "output_type": "stream",
     "text": [
      "Saving Input   sample as:        sample_ini_NGC_1333.vot. N_elements = 203\n",
      "Saving Initial sample as:  sample_ini_NGC_1333_2MASS.vot. N_elements = 160\n",
      "\n",
      "Saving Input   sample as:          sample_ini_IC_348.vot. N_elements = 478\n",
      "Saving Initial sample as:    sample_ini_IC_348_2MASS.vot. N_elements = 416\n",
      "\n",
      "\n",
      "INITIAL SAMPLES SAVED IN ../sample_analysis/ DIRECTORY\n"
     ]
    }
   ],
   "source": [
    "# Save Catalogues ======================================\n",
    "for i in range(2):\n",
    "\n",
    "    name_out_0 = 'sample_ini_' + inp_cats[i].label + '.vot'   \n",
    "    name_out_1 = 'sample_ini_' + out_cats[i].label + '_2MASS.vot'\n",
    "\n",
    "    inp_cats[i].write(name_out_0, format = 'votable', overwrite = True)\n",
    "    out_cats[i].write(name_out_1, format = 'votable', overwrite = True)\n",
    "\n",
    "    print(f'Saving Input   sample as: {name_out_0:>30s}. N_elements ={len(inp_cats[i]):>4.0f}')    \n",
    "    print(f'Saving Initial sample as: {name_out_1:>30s}. N_elements ={len(out_cats[i]):>4.0f}')\n",
    "    os.system('cp ' + name_out_1 + ' ../sample_analysis/')\n",
    "    print()\n",
    "\n",
    "print()\n",
    "print('INITIAL SAMPLES SAVED IN ../sample_analysis/ DIRECTORY')"
   ]
  },
  {
   "cell_type": "code",
   "execution_count": 6,
   "metadata": {},
   "outputs": [
    {
     "name": "stdout",
     "output_type": "stream",
     "text": [
      "01_make_sample_initial.ipynb\r\n",
      "README.md\r\n",
      "\u001b[1m\u001b[34m__pycache__\u001b[m\u001b[m/\r\n",
      "library_initial.py\r\n",
      "sample_ini_IC_348.vot\r\n",
      "sample_ini_IC_348_2MASS.vot\r\n",
      "sample_ini_NGC_1333.vot\r\n",
      "sample_ini_NGC_1333_2MASS.vot\r\n",
      "table_1.dat\r\n",
      "table_2.dat\r\n"
     ]
    }
   ],
   "source": [
    "ls -1"
   ]
  },
  {
   "cell_type": "code",
   "execution_count": null,
   "metadata": {},
   "outputs": [],
   "source": []
  }
 ],
 "metadata": {
  "hide_input": false,
  "kernelspec": {
   "display_name": "Python 3",
   "language": "python",
   "name": "python3"
  },
  "language_info": {
   "codemirror_mode": {
    "name": "ipython",
    "version": 3
   },
   "file_extension": ".py",
   "mimetype": "text/x-python",
   "name": "python",
   "nbconvert_exporter": "python",
   "pygments_lexer": "ipython3",
   "version": "3.7.3"
  },
  "toc": {
   "base_numbering": 1,
   "nav_menu": {},
   "number_sections": true,
   "sideBar": true,
   "skip_h1_title": false,
   "title_cell": "Table of Contents",
   "title_sidebar": "Contents",
   "toc_cell": false,
   "toc_position": {},
   "toc_section_display": true,
   "toc_window_display": false
  }
 },
 "nbformat": 4,
 "nbformat_minor": 2
}
