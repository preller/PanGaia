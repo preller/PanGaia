{
 "cells": [
  {
   "cell_type": "markdown",
   "metadata": {
    "toc": true
   },
   "source": [
    "<h1>Table of Contents<span class=\"tocSkip\"></span></h1>\n",
    "<div class=\"toc\"><ul class=\"toc-item\"><li><span><a href=\"#Load-Control-Sample\" data-toc-modified-id=\"Load-Control-Sample-1\"><span class=\"toc-item-num\">1&nbsp;&nbsp;</span>Load Control Sample</a></span></li><li><span><a href=\"#Run-ESASky\" data-toc-modified-id=\"Run-ESASky-2\"><span class=\"toc-item-num\">2&nbsp;&nbsp;</span>Run ESASky</a></span></li><li><span><a href=\"#Construct-Data-Sample\" data-toc-modified-id=\"Construct-Data-Sample-3\"><span class=\"toc-item-num\">3&nbsp;&nbsp;</span>Construct Data Sample</a></span></li><li><span><a href=\"#Visual-Inspection\" data-toc-modified-id=\"Visual-Inspection-4\"><span class=\"toc-item-num\">4&nbsp;&nbsp;</span>Visual Inspection</a></span></li><li><span><a href=\"#Clustering-Analysis\" data-toc-modified-id=\"Clustering-Analysis-5\"><span class=\"toc-item-num\">5&nbsp;&nbsp;</span>Clustering Analysis</a></span></li><li><span><a href=\"#Compare-to-Control\" data-toc-modified-id=\"Compare-to-Control-6\"><span class=\"toc-item-num\">6&nbsp;&nbsp;</span>Compare to Control</a></span></li><li><span><a href=\"#Save-HDBSCAN-Output\" data-toc-modified-id=\"Save-HDBSCAN-Output-7\"><span class=\"toc-item-num\">7&nbsp;&nbsp;</span>Save HDBSCAN Output</a></span></li></ul></div>"
   ]
  },
  {
   "cell_type": "code",
   "execution_count": null,
   "metadata": {},
   "outputs": [],
   "source": [
    "# Python Basics ========================\n",
    "import warnings, sys\n",
    "warnings.filterwarnings('ignore', category=UserWarning)\n",
    "sys.path.append('../library/')\n",
    "\n",
    "# Custom ===============================\n",
    "from lib_utils       import LibUtils       as Utils\n",
    "from lib_gaia_query  import LibGaiaQuery   as GaiaQuery\n",
    "from lib_interactive import LibInteractive as Interactive\n",
    "from lib_cluster     import LibCluster     as Cluster\n",
    "from lib_plotters    import LibPlotters    as Plotters\n",
    "from lib_compare     import LibCompare     as Compare\n",
    "\n",
    "# PyEsasKy =============================\n",
    "from pyesasky.pyesasky import ESASkyWidget\n",
    "\n",
    "# Adjust cell size =====================\n",
    "from IPython.core.display import display, HTML\n",
    "display(HTML(\"<style>.container { width:95% !important; }</style>\")) ## Adjust cell size as you wish"
   ]
  },
  {
   "cell_type": "code",
   "execution_count": null,
   "metadata": {},
   "outputs": [],
   "source": [
    "# SetUp Analysis Steps =================================\n",
    "step_1 = True # Load Control Sample\n",
    "step_2 = True # ESASky Plot\n",
    "step_3 = True # Interactive/Dynamical Gaia Data exploration\n",
    "step_4 = True # Clustering"
   ]
  },
  {
   "cell_type": "markdown",
   "metadata": {},
   "source": [
    "# Load Control Sample"
   ]
  },
  {
   "cell_type": "code",
   "execution_count": null,
   "metadata": {},
   "outputs": [],
   "source": [
    "# Load Control Sample ==================================\n",
    "if step_1:\n",
    "    control = Utils(color = 'magenta', label = 'Sample Control')\n",
    "    control.read_catalogue(sample_dir = '../samples_control/')\n",
    "\n",
    "\n",
    "    print()\n",
    "    print(f'Showing {control.label} first 5 rows:')\n",
    "    display(control.cat[0:5])\n",
    "\n",
    "    # Examine Velocity & Histograms ====================\n",
    "    figures  = Plotters()\n",
    "    figures.load_gaia_cat(control.cat)\n",
    "    figures.plot_2d_and_hist(col_hist = 'distance', label = control.label,\n",
    "                             color_2d = control.color, color_hist = control.color, mew = 1)    "
   ]
  },
  {
   "cell_type": "markdown",
   "metadata": {},
   "source": [
    "# Run ESASky"
   ]
  },
  {
   "cell_type": "code",
   "execution_count": null,
   "metadata": {},
   "outputs": [],
   "source": [
    "# Run ESASKY ===========================================\n",
    "if step_2:\n",
    "    esasky = ESASkyWidget()\n",
    "    display(esasky)"
   ]
  },
  {
   "cell_type": "code",
   "execution_count": null,
   "metadata": {
    "scrolled": true
   },
   "outputs": [],
   "source": [
    "# Show Control Sample in ESASky ========================\n",
    "if step_1 and step_2:\n",
    "    figures_0  = Plotters()\n",
    "    figures_0.load_gaia_cat(control.cat)\n",
    "    figures_0.send_to_ESASky(esasky, background='WISE', color=control.color, catalogueName = control.label)"
   ]
  },
  {
   "cell_type": "markdown",
   "metadata": {},
   "source": [
    "# Construct Data Sample"
   ]
  },
  {
   "cell_type": "code",
   "execution_count": null,
   "metadata": {},
   "outputs": [],
   "source": [
    "# Create Gaia Sample ===================================\n",
    "sample_queried = GaiaQuery()\n",
    "if step_1:\n",
    "    control.print_cone_properties()\n",
    "    ra  = control.ADQL_pars['ra'].value\n",
    "    dec = control.ADQL_pars['dec'].value\n",
    "    sample_queried.set_cone_search_pars(ra = ra, dec = dec)\n",
    "else:\n",
    "    sample_queried.set_cone_search_pars()\n",
    "sample_queried.run_cone_search(quality_par_SN  = '10', quality_par_vis = '7',quality_par_ruwe = '1.40')\n",
    "\n",
    "print()\n",
    "sample_gaia = Utils(color = 'grey', label = sample_queried.sample_name)\n",
    "sample_gaia.read_catalogue(sample_queried.cat, save_sample = True, print_vrad = True)\n",
    "\n",
    "print('Showing first 5 rows of Analysis Sample')\n",
    "display(sample_gaia.cat[0:5])"
   ]
  },
  {
   "cell_type": "code",
   "execution_count": null,
   "metadata": {
    "scrolled": true
   },
   "outputs": [],
   "source": [
    "# Show output in ESASky ================================\n",
    "if step_2:\n",
    "    figures  = Plotters()\n",
    "    figures.load_gaia_cat(sample_gaia.cat)\n",
    "    figures.send_to_ESASky(esasky, background='WISE', color='white', radius = sample_gaia.ADQL_pars['radius'].value, catalogueName = 'Analysis Sample')"
   ]
  },
  {
   "cell_type": "markdown",
   "metadata": {
    "hide_input": true
   },
   "source": [
    "# Visual Inspection"
   ]
  },
  {
   "cell_type": "code",
   "execution_count": null,
   "metadata": {
    "hide_input": true
   },
   "outputs": [],
   "source": [
    "# Examine astrometry ===================================\n",
    "if step_3:\n",
    "    i_figures = Interactive()\n",
    "    i_figures.load_gaia_cat(sample_gaia.cat)\n",
    "    if step_1:\n",
    "            i_figures.load_control_obj(control)\n",
    "    i_figures.explore_and_select(opacity = 0.5, border_width = 1, color_def = 'black', color_high = 'cyan')\n",
    "    display(i_figures.dashboard)"
   ]
  },
  {
   "cell_type": "code",
   "execution_count": null,
   "metadata": {
    "hide_input": true
   },
   "outputs": [],
   "source": [
    "# Show 3D distribution =================================\n",
    "if step_2 and step_3:\n",
    "    if hasattr(i_figures, 'cat_subsamp'):\n",
    "        print('Plotting Subsample in ESASky')\n",
    "        figures.add_catalogue_to_ESASky(esasky, i_figures.cat_subsamp, color='cyan', catalogueName='SubSamp', radius = sample_gaia.ADQL_pars['radius'].value)\n",
    "\n",
    "if step_3:\n",
    "    i_figures.show_3D_space(width = 1200, height=700, size = 5, color_def = 'black')\n",
    "    display(i_figures.fig_3D)"
   ]
  },
  {
   "cell_type": "markdown",
   "metadata": {},
   "source": [
    "# Clustering Analysis"
   ]
  },
  {
   "cell_type": "code",
   "execution_count": null,
   "metadata": {},
   "outputs": [],
   "source": [
    "# Scale before clustering ==============================\n",
    "if step_4:\n",
    "    data_clustering = Cluster()\n",
    "    data_clustering.read_data_obj(sample_gaia, scl_features = ['X_gal', 'Y_gal', 'Z_gal', 'pmdec', 'pmra'])"
   ]
  },
  {
   "cell_type": "code",
   "execution_count": null,
   "metadata": {},
   "outputs": [],
   "source": [
    "# Run HDBSCAN through a range of min samples ===========\n",
    "if step_4:\n",
    "    data_clustering.run_multi_hdbscan(verbose = True, show_plot = False)\n",
    "    data_clustering.plot_multi_hdbscan_stats(fig_nm = 'default')"
   ]
  },
  {
   "cell_type": "code",
   "execution_count": null,
   "metadata": {
    "scrolled": false
   },
   "outputs": [],
   "source": [
    "# Show selected HDBSCAN results ========================\n",
    "if step_4:\n",
    "    data_clustering.run_hdbscan(probability = data_clustering.probability, min_samples=data_clustering.min_samples, verbose = True)\n",
    "    data_clustering.plot_hdbscan_clusters()\n",
    "\n",
    "\n",
    "if step_2:\n",
    "        data_clustering.esasky_hdbscan_clusters(esasky, radius = sample_gaia.ADQL_pars['radius'].value)"
   ]
  },
  {
   "cell_type": "markdown",
   "metadata": {},
   "source": [
    "# Compare to Control"
   ]
  },
  {
   "cell_type": "code",
   "execution_count": null,
   "metadata": {},
   "outputs": [],
   "source": [
    "# Cluster Comparison ===================================\n",
    "if step_1:\n",
    "    comp = Compare()\n",
    "    comp.read_control(control, mew = 2)\n",
    "    comp.read_clusters(data_clustering, verbose = False)\n",
    "    comp.compare_to_control(verbose = True)\n",
    "    print()\n",
    "    comp.plot_clusters_comp(markersize = 16, fig_nm = 'default', fontsize = 20)    "
   ]
  },
  {
   "cell_type": "markdown",
   "metadata": {},
   "source": [
    "# Save HDBSCAN Output"
   ]
  },
  {
   "cell_type": "code",
   "execution_count": null,
   "metadata": {},
   "outputs": [],
   "source": [
    "if step_4:\n",
    "    data_clustering.save_cluster()"
   ]
  }
 ],
 "metadata": {
  "hide_input": false,
  "kernelspec": {
   "display_name": "Python 3",
   "language": "python",
   "name": "python3"
  },
  "language_info": {
   "codemirror_mode": {
    "name": "ipython",
    "version": 3
   },
   "file_extension": ".py",
   "mimetype": "text/x-python",
   "name": "python",
   "nbconvert_exporter": "python",
   "pygments_lexer": "ipython3",
   "version": "3.7.3"
  },
  "toc": {
   "base_numbering": "1",
   "nav_menu": {},
   "number_sections": true,
   "sideBar": true,
   "skip_h1_title": false,
   "title_cell": "Table of Contents",
   "title_sidebar": "Contents",
   "toc_cell": true,
   "toc_position": {
    "height": "calc(100% - 180px)",
    "left": "10px",
    "top": "150px",
    "width": "333.20654296875px"
   },
   "toc_section_display": true,
   "toc_window_display": false
  }
 },
 "nbformat": 4,
 "nbformat_minor": 4
}
